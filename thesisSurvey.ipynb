{
 "cells": [
  {
   "cell_type": "code",
   "execution_count": 58,
   "metadata": {},
   "outputs": [],
   "source": [
    "def analyze (rawResponse):\n",
    "    # get number of people who responded\n",
    "\n",
    "    totalPeople =  0\n",
    "    for line in rawResponse.split(\"\\n\"):\n",
    "        if line is not \"\":\n",
    "            totalPeople+=1\n",
    "    print(totalPeople)\n",
    "    \n",
    "    #create list of responses\n",
    "    responses = rawResponse.replace(\"\\n\",\", \").lower().split(\", \")\n",
    "    \n",
    "    # get number of responses\n",
    "    totalResponses = len(responses)\n",
    "    \n",
    "    # get categories, create an object to contain their results, get absolute number of people who responded each item\n",
    "    result = {}\n",
    "\n",
    "    for response in responses:\n",
    "        response = response.strip()\n",
    "        if response != \"\":\n",
    "            if response in result:\n",
    "                result[response][\"absolute\"] += 1\n",
    "            else:\n",
    "                result[response] = {\"absolute\": 1} \n",
    "\n",
    "    # percentage of people who responded that (category here corresponds to response in last cell)\n",
    "    for category in result:\n",
    "        result[category][\"people\"] = (result[category][\"absolute\"]*100)/totalPeople\n",
    "        \n",
    "     # percentage of equal responses related to all responses\n",
    "    for category in result:\n",
    "        result[category][\"response\"] = (result[category][\"absolute\"]*100)/totalResponses\n",
    "\n",
    "    return(result)"
   ]
  },
  {
   "cell_type": "code",
   "execution_count": 59,
   "metadata": {},
   "outputs": [],
   "source": [
    "#opening csv file\n",
    "import csv\n",
    "resultCsv = 'surveyResults.csv'\n",
    "rawResult = csv.reader(open('surveyResults.csv', 'r'), delimiter = ';')\n",
    "\n",
    "#creating a list containing each person's responses\n",
    "singleResponse = []\n",
    "\n",
    "for row in rawResult:\n",
    "    singleResponse.append(row)\n",
    "\n",
    "#creating a string with all the answers for each question\n",
    "profession = \"\"\n",
    "workField = \"\"\n",
    "region = \"\"\n",
    "age = \"\"\n",
    "socialMedia = \"\"\n",
    "workMedia = \"\"\n",
    "wouldBeIn = \"\"\n",
    "portfolio = \"\"\n",
    "portfolioReason = \"\"\n",
    "followArt = \"\"\n",
    "eventTool = \"\"\n",
    "paidAd = \"\"\n",
    "funding = \"\"\n",
    "audience = \"\"\n",
    "    \n",
    "for r in singleResponse:\n",
    "    profession += r[0] + \"\\n\"\n",
    "    workField += r[1] + \"\\n\"\n",
    "    region += r[2] + \"\\n\"\n",
    "    age += r[3] + \"\\n\"\n",
    "    socialMedia += r[4] + \"\\n\"\n",
    "    workMedia += r[5] + \"\\n\"\n",
    "    wouldBeIn += r[6] + \"\\n\"\n",
    "    portfolio += r[7] + \"\\n\"\n",
    "    portfolioReason += r[8] + \"\\n\"\n",
    "    followArt += r[9] + \"\\n\"\n",
    "    eventTool += r[10] + \"\\n\"\n",
    "    paidAd += r[11] + \"\\n\"\n",
    "    funding += r[12] + \"\\n\"\n",
    "    audience += r[13] + \"\\n\"\n",
    "\n"
   ]
  },
  {
   "cell_type": "code",
   "execution_count": 60,
   "metadata": {},
   "outputs": [],
   "source": [
    "# separate states into regions\n",
    "regionName = [\"Sul\", \"Sudeste\", \"Centro-oeste\", \"Norte\", \"Nordeste\"]\n",
    "statesByRegion = [[\"PR\", \"RS\", \"SC\"],[\"SP\", \"MG\", \"ES\", \"RJ\"],[\"MT\", \"GO\", \"MS\", \"DF\"],[\"AC\", \"AM\", \"RO\", \"RR\", \"PA\", \"AP\", \"TO\"],[\"MA\", \"PI\", \"BA\", \"SE\", \"AL\", \"PE\", \"PB\", \"RN\", \"CE\"]]\n",
    "\n",
    "for i in range(len(regionName)):\n",
    "    for state in statesByRegion[i]:\n",
    "        region = region.replace(state, regionName[i])\n",
    "                  \n",
    "# print(region)"
   ]
  },
  {
   "cell_type": "code",
   "execution_count": 61,
   "metadata": {},
   "outputs": [
    {
     "name": "stdout",
     "output_type": "stream",
     "text": [
      "149\n",
      "149\n",
      "144\n",
      "149\n",
      "149\n",
      "149\n",
      "149\n",
      "149\n",
      "57\n",
      "144\n",
      "120\n",
      "147\n",
      "135\n",
      "131\n",
      "{'profissão': {'artista': {'absolute': 115, 'people': 77.18120805369128, 'response': 51.8018018018018}, 'produtor/a cultural': {'absolute': 24, 'people': 16.107382550335572, 'response': 10.81081081081081}, 'gerente de espaã§o cultural': {'absolute': 4, 'people': 2.684563758389262, 'response': 1.8018018018018018}, 'tã©cnica': {'absolute': 4, 'people': 2.684563758389262, 'response': 1.8018018018018018}, 'educador/a': {'absolute': 59, 'people': 39.59731543624161, 'response': 26.576576576576578}, 'outro': {'absolute': 15, 'people': 10.06711409395973, 'response': 6.756756756756757}}, 'área de trabalho': {'teatro': {'absolute': 60, 'people': 40.26845637583892, 'response': 16.853932584269664}, 'performance': {'absolute': 43, 'people': 28.859060402684563, 'response': 12.07865168539326}, 'mãºsica': {'absolute': 49, 'people': 32.88590604026846, 'response': 13.764044943820224}, 'artes visuais': {'absolute': 42, 'people': 28.187919463087248, 'response': 11.797752808988765}, 'fotografia': {'absolute': 21, 'people': 14.093959731543624, 'response': 5.898876404494382}, 'novas mã\\xaddias / arte digital': {'absolute': 30, 'people': 20.13422818791946, 'response': 8.426966292134832}, 'cinema': {'absolute': 22, 'people': 14.765100671140939, 'response': 6.179775280898877}, 'literatura': {'absolute': 21, 'people': 14.093959731543624, 'response': 5.898876404494382}, 'danã§a': {'absolute': 44, 'people': 29.530201342281877, 'response': 12.359550561797754}, 'circo': {'absolute': 7, 'people': 4.697986577181208, 'response': 1.9662921348314606}, 'outro': {'absolute': 16, 'people': 10.738255033557047, 'response': 4.49438202247191}}, 'região': {'sul': {'absolute': 42, 'people': 29.166666666666668, 'response': 27.096774193548388}, 'sudeste': {'absolute': 21, 'people': 14.583333333333334, 'response': 13.548387096774194}, 'nordeste': {'absolute': 34, 'people': 23.61111111111111, 'response': 21.93548387096774}, 'centro-oeste': {'absolute': 28, 'people': 19.444444444444443, 'response': 18.06451612903226}, 'norte': {'absolute': 24, 'people': 16.666666666666668, 'response': 15.483870967741936}}, 'idade': {'1989': {'absolute': 4, 'people': 2.684563758389262, 'response': 2.6666666666666665}, '1995': {'absolute': 8, 'people': 5.369127516778524, 'response': 5.333333333333333}, '1985': {'absolute': 3, 'people': 2.0134228187919465, 'response': 2.0}, '1955': {'absolute': 1, 'people': 0.6711409395973155, 'response': 0.6666666666666666}, '1991': {'absolute': 5, 'people': 3.3557046979865772, 'response': 3.3333333333333335}, '1984': {'absolute': 5, 'people': 3.3557046979865772, 'response': 3.3333333333333335}, '1990': {'absolute': 6, 'people': 4.026845637583893, 'response': 4.0}, '1994': {'absolute': 8, 'people': 5.369127516778524, 'response': 5.333333333333333}, '1981': {'absolute': 6, 'people': 4.026845637583893, 'response': 4.0}, '1969': {'absolute': 1, 'people': 0.6711409395973155, 'response': 0.6666666666666666}, '1976': {'absolute': 1, 'people': 0.6711409395973155, 'response': 0.6666666666666666}, '1993': {'absolute': 7, 'people': 4.697986577181208, 'response': 4.666666666666667}, '1997': {'absolute': 9, 'people': 6.040268456375839, 'response': 6.0}, '1988': {'absolute': 9, 'people': 6.040268456375839, 'response': 6.0}, '1972': {'absolute': 1, 'people': 0.6711409395973155, 'response': 0.6666666666666666}, '1996': {'absolute': 8, 'people': 5.369127516778524, 'response': 5.333333333333333}, '1974': {'absolute': 2, 'people': 1.342281879194631, 'response': 1.3333333333333333}, '1959': {'absolute': 1, 'people': 0.6711409395973155, 'response': 0.6666666666666666}, '1982': {'absolute': 2, 'people': 1.342281879194631, 'response': 1.3333333333333333}, '1987': {'absolute': 3, 'people': 2.0134228187919465, 'response': 2.0}, '1977': {'absolute': 2, 'people': 1.342281879194631, 'response': 1.3333333333333333}, '1980': {'absolute': 5, 'people': 3.3557046979865772, 'response': 3.3333333333333335}, '1992': {'absolute': 4, 'people': 2.684563758389262, 'response': 2.6666666666666665}, '2002': {'absolute': 2, 'people': 1.342281879194631, 'response': 1.3333333333333333}, '1971': {'absolute': 5, 'people': 3.3557046979865772, 'response': 3.3333333333333335}, '1999': {'absolute': 6, 'people': 4.026845637583893, 'response': 4.0}, '2000': {'absolute': 8, 'people': 5.369127516778524, 'response': 5.333333333333333}, '2001': {'absolute': 4, 'people': 2.684563758389262, 'response': 2.6666666666666665}, '1998': {'absolute': 2, 'people': 1.342281879194631, 'response': 1.3333333333333333}, '1964': {'absolute': 2, 'people': 1.342281879194631, 'response': 1.3333333333333333}, '1967': {'absolute': 2, 'people': 1.342281879194631, 'response': 1.3333333333333333}, '1962': {'absolute': 2, 'people': 1.342281879194631, 'response': 1.3333333333333333}, '1978': {'absolute': 3, 'people': 2.0134228187919465, 'response': 2.0}, '1960': {'absolute': 1, 'people': 0.6711409395973155, 'response': 0.6666666666666666}, '1968': {'absolute': 1, 'people': 0.6711409395973155, 'response': 0.6666666666666666}, '1975': {'absolute': 1, 'people': 0.6711409395973155, 'response': 0.6666666666666666}, '1965': {'absolute': 2, 'people': 1.342281879194631, 'response': 1.3333333333333333}, '1956': {'absolute': 1, 'people': 0.6711409395973155, 'response': 0.6666666666666666}, '1973': {'absolute': 1, 'people': 0.6711409395973155, 'response': 0.6666666666666666}, '1957': {'absolute': 1, 'people': 0.6711409395973155, 'response': 0.6666666666666666}, '1983': {'absolute': 1, 'people': 0.6711409395973155, 'response': 0.6666666666666666}, '1986': {'absolute': 3, 'people': 2.0134228187919465, 'response': 2.0}}, 'redes sociais que utiliza': {'facebook': {'absolute': 121, 'people': 81.20805369127517, 'response': 17.510853835021706}, 'instagram': {'absolute': 135, 'people': 90.60402684563758, 'response': 19.536903039073806}, 'whatsapp': {'absolute': 142, 'people': 95.30201342281879, 'response': 20.549927641099856}, 'telegram': {'absolute': 40, 'people': 26.845637583892618, 'response': 5.788712011577424}, 'youtube': {'absolute': 115, 'people': 77.18120805369128, 'response': 16.642547033285094}, 'vimeo': {'absolute': 17, 'people': 11.409395973154362, 'response': 2.460202604920405}, 'twitter': {'absolute': 55, 'people': 36.91275167785235, 'response': 7.959479015918958}, 'pinterest': {'absolute': 51, 'people': 34.22818791946309, 'response': 7.380607814761215}, 'signal': {'absolute': 1, 'people': 0.6711409395973155, 'response': 0.1447178002894356}, 'deviantart': {'absolute': 1, 'people': 0.6711409395973155, 'response': 0.1447178002894356}, 'artstation': {'absolute': 1, 'people': 0.6711409395973155, 'response': 0.1447178002894356}, 'behance': {'absolute': 3, 'people': 2.0134228187919465, 'response': 0.4341534008683068}, 'flickr': {'absolute': 1, 'people': 0.6711409395973155, 'response': 0.1447178002894356}, 'tik tok': {'absolute': 2, 'people': 1.342281879194631, 'response': 0.2894356005788712}, 'linkedin': {'absolute': 3, 'people': 2.0134228187919465, 'response': 0.4341534008683068}, 'skoob': {'absolute': 1, 'people': 0.6711409395973155, 'response': 0.1447178002894356}, 'tumblr': {'absolute': 1, 'people': 0.6711409395973155, 'response': 0.1447178002894356}}, 'redes sociais utiliza para trabalho': {'instagram': {'absolute': 111, 'people': 74.49664429530202, 'response': 25.995316159250585}, 'whatsapp': {'absolute': 101, 'people': 67.78523489932886, 'response': 23.653395784543324}, 'facebook': {'absolute': 80, 'people': 53.691275167785236, 'response': 18.73536299765808}, 'youtube': {'absolute': 65, 'people': 43.624161073825505, 'response': 15.22248243559719}, 'vimeo': {'absolute': 13, 'people': 8.724832214765101, 'response': 3.0444964871194378}, 'twitter': {'absolute': 14, 'people': 9.395973154362416, 'response': 3.278688524590164}, 'pinterest': {'absolute': 13, 'people': 8.724832214765101, 'response': 3.0444964871194378}, 'nã£o faã§o uso de redes sociais como ferramenta de trabalho': {'absolute': 9, 'people': 6.040268456375839, 'response': 2.107728337236534}, 'behance': {'absolute': 2, 'people': 1.342281879194631, 'response': 0.468384074941452}, 'deviantart': {'absolute': 1, 'people': 0.6711409395973155, 'response': 0.234192037470726}, 'artstation': {'absolute': 1, 'people': 0.6711409395973155, 'response': 0.234192037470726}, 'telegram': {'absolute': 11, 'people': 7.382550335570469, 'response': 2.576112412177986}, 'tik tok': {'absolute': 1, 'people': 0.6711409395973155, 'response': 0.234192037470726}, 'flickr': {'absolute': 1, 'people': 0.6711409395973155, 'response': 0.234192037470726}, 'linkedin': {'absolute': 2, 'people': 1.342281879194631, 'response': 0.468384074941452}, 'signal': {'absolute': 1, 'people': 0.6711409395973155, 'response': 0.234192037470726}}, 'estaria na rede se não por trabalho': {'algumas sim outras nã£o': {'absolute': 69, 'people': 46.308724832214764, 'response': 46.0}, 'sim': {'absolute': 68, 'people': 45.63758389261745, 'response': 45.333333333333336}, 'nã£o': {'absolute': 12, 'people': 8.053691275167786, 'response': 8.0}}, 'possui portfólio online': {'redes sociais (facebook instagram)': {'absolute': 47, 'people': 31.543624161073826, 'response': 22.48803827751196}, 'site pessoal': {'absolute': 22, 'people': 14.765100671140939, 'response': 10.526315789473685}, 'plataforma de vã\\xaddeo (youtube vimeo)': {'absolute': 27, 'people': 18.120805369127517, 'response': 12.91866028708134}, 'site de galerias de arte': {'absolute': 1, 'people': 0.6711409395973155, 'response': 0.4784688995215311}, 'plataformas especializadas em portfã³lio artã\\xadstico (behance cargo etc)': {'absolute': 19, 'people': 12.751677852348994, 'response': 9.090909090909092}, 'plataforma de mãºsica (bandcamp soundcloud)': {'absolute': 12, 'people': 8.053691275167786, 'response': 5.741626794258373}, 'pinterest': {'absolute': 1, 'people': 0.6711409395973155, 'response': 0.4784688995215311}, 'drive': {'absolute': 5, 'people': 3.3557046979865772, 'response': 2.3923444976076556}, 'meu portfolio nã£o estã¡ disponã\\xadvel': {'absolute': 61, 'people': 40.939597315436245, 'response': 29.1866028708134}, 'blog pessoal': {'absolute': 9, 'people': 6.040268456375839, 'response': 4.30622009569378}, 'linkedin': {'absolute': 1, 'people': 0.6711409395973155, 'response': 0.4784688995215311}, 'mapa nas nuvens': {'absolute': 1, 'people': 0.6711409395973155, 'response': 0.4784688995215311}, 'plataforma lattes': {'absolute': 2, 'people': 1.342281879194631, 'response': 0.9569377990430622}}, 'se não, motivo': {'falta de tempo ou organizaã§ã£o': {'absolute': 25, 'people': 43.85964912280702, 'response': 16.666666666666668}, 'falta de necessidade': {'absolute': 19, 'people': 33.333333333333336, 'response': 12.666666666666666}, 'nã£o sabe fazer/inseguranã§a': {'absolute': 4, 'people': 7.017543859649122, 'response': 2.6666666666666665}, 'nã£o encontrou uma plataforma': {'absolute': 3, 'people': 5.2631578947368425, 'response': 2.0}, 'nunca pensou nisso': {'absolute': 4, 'people': 7.017543859649122, 'response': 2.6666666666666665}, 'privacidade': {'absolute': 2, 'people': 3.508771929824561, 'response': 1.3333333333333333}}, 'em quais redes acompanha outros artistas': {'instagram': {'absolute': 132, 'people': 91.66666666666667, 'response': 30.4147465437788}, 'facebook': {'absolute': 73, 'people': 50.69444444444444, 'response': 16.820276497695854}, 'sites pessoais': {'absolute': 50, 'people': 34.72222222222222, 'response': 11.52073732718894}, 'plataformas de streaming de mãºsica': {'absolute': 67, 'people': 46.52777777777778, 'response': 15.43778801843318}, 'plataformas de streaming de vã\\xaddeo': {'absolute': 72, 'people': 50.0, 'response': 16.589861751152075}, 'blogs': {'absolute': 27, 'people': 18.75, 'response': 6.221198156682028}, 'behance': {'absolute': 1, 'people': 0.6944444444444444, 'response': 0.2304147465437788}, 'plataformas de streaming de video': {'absolute': 1, 'people': 0.6944444444444444, 'response': 0.2304147465437788}, 'pinterest': {'absolute': 1, 'people': 0.6944444444444444, 'response': 0.2304147465437788}, 'patreon': {'absolute': 1, 'people': 0.6944444444444444, 'response': 0.2304147465437788}, 'twitter': {'absolute': 2, 'people': 1.3888888888888888, 'response': 0.4608294930875576}, 'tumblr': {'absolute': 1, 'people': 0.6944444444444444, 'response': 0.2304147465437788}}, 'quais ferramentas para eventos utiliza': {'ferramenta de eventos do facebook': {'absolute': 68, 'people': 56.666666666666664, 'response': 12.164579606440071}, 'postagem no facebook': {'absolute': 73, 'people': 60.833333333333336, 'response': 13.059033989266547}, 'histã³rias do instagram': {'absolute': 87, 'people': 72.5, 'response': 15.56350626118068}, 'postagem no instagram': {'absolute': 94, 'people': 78.33333333333333, 'response': 16.815742397137747}, 'aplicativos de mensagem': {'absolute': 84, 'people': 70.0, 'response': 15.026833631484795}, 'imprensa': {'absolute': 36, 'people': 30.0, 'response': 6.440071556350627}, 'material impresso': {'absolute': 47, 'people': 39.166666666666664, 'response': 8.407871198568873}, 'eventbrite': {'absolute': 6, 'people': 5.0, 'response': 1.073345259391771}, 'sympla': {'absolute': 25, 'people': 20.833333333333332, 'response': 4.47227191413238}, 'outdoors': {'absolute': 9, 'people': 7.5, 'response': 1.6100178890876566}}, 'paga por anúncios': {'pago na maioria das vezes': {'absolute': 6, 'people': 4.081632653061225, 'response': 4.0}, 'nunca paguei': {'absolute': 90, 'people': 61.224489795918366, 'response': 60.0}, 'paguei algumas vezes': {'absolute': 49, 'people': 33.333333333333336, 'response': 32.666666666666664}, 'pago em todos os eventos': {'absolute': 2, 'people': 1.3605442176870748, 'response': 1.3333333333333333}}, 'formas de financiamento de trabalho': {'patrocã\\xadnio': {'absolute': 8, 'people': 5.925925925925926, 'response': 5.128205128205129}, 'investimento prã³prio sem retorno': {'absolute': 73, 'people': 54.074074074074076, 'response': 46.794871794871796}, 'editais': {'absolute': 35, 'people': 25.925925925925927, 'response': 22.435897435897434}, 'ingresso': {'absolute': 14, 'people': 10.37037037037037, 'response': 8.974358974358974}, 'financiamento coletivo': {'absolute': 6, 'people': 4.444444444444445, 'response': 3.8461538461538463}, 'cliente ou comprador/a': {'absolute': 2, 'people': 1.4814814814814814, 'response': 1.2820512820512822}, 'universidade': {'absolute': 3, 'people': 2.2222222222222223, 'response': 1.9230769230769231}}, 'quais ferramentas utiliza para procurar eventos como público': {'100+': {'absolute': 38, 'people': 29.00763358778626, 'response': 25.333333333333332}, 'atã© 100': {'absolute': 69, 'people': 52.67175572519084, 'response': 46.0}, '1000+': {'absolute': 6, 'people': 4.580152671755725, 'response': 4.0}, '500+': {'absolute': 11, 'people': 8.396946564885496, 'response': 7.333333333333333}, '5000+': {'absolute': 1, 'people': 0.7633587786259542, 'response': 0.6666666666666666}, '100': {'absolute': 4, 'people': 3.053435114503817, 'response': 2.6666666666666665}, '500': {'absolute': 1, 'people': 0.7633587786259542, 'response': 0.6666666666666666}, '1000': {'absolute': 1, 'people': 0.7633587786259542, 'response': 0.6666666666666666}}}\n"
     ]
    }
   ],
   "source": [
    "surveyResults = {}\n",
    "surveyResults[\"profissão\"] = analyze(profession)\n",
    "surveyResults[\"área de trabalho\"] = analyze(workField)\n",
    "surveyResults[\"região\"] = analyze(region)\n",
    "surveyResults[\"idade\"] = analyze(age)\n",
    "surveyResults[\"redes sociais que utiliza\"] = analyze(socialMedia)\n",
    "surveyResults[\"redes sociais utiliza para trabalho\"] = analyze(workMedia)\n",
    "surveyResults[\"estaria na rede se não por trabalho\"] = analyze(wouldBeIn)\n",
    "surveyResults[\"possui portfólio online\"] = analyze(portfolio)\n",
    "surveyResults[\"se não, motivo\"] = analyze(portfolioReason)\n",
    "surveyResults[\"em quais redes acompanha outros artistas\"] = analyze(followArt)\n",
    "surveyResults[\"quais ferramentas para eventos utiliza\"] = analyze(eventTool)\n",
    "surveyResults[\"paga por anúncios\"] = analyze(paidAd)\n",
    "surveyResults[\"formas de financiamento de trabalho\"] = analyze(funding)\n",
    "surveyResults[\"quais ferramentas utiliza para procurar eventos como público\"] = analyze(audience)\n",
    "\n",
    "print(surveyResults)"
   ]
  },
  {
   "cell_type": "code",
   "execution_count": 62,
   "metadata": {},
   "outputs": [
    {
     "name": "stdout",
     "output_type": "stream",
     "text": [
      "Your file has been updated\n"
     ]
    }
   ],
   "source": [
    "# exporting data to a .csv file\n",
    "\n",
    "# open the file\n",
    "data = csv.writer(open('rData.csv', 'w'), delimiter=',')\n",
    "\n",
    "# write categories at the top of the file\n",
    "data.writerow([\"Pergunta\", \"Resposta\", \"Quantidade\", \"% de pessoas\", \"% de respostas\"])\n",
    "\n",
    "# for each question, add a row to identify\n",
    "for question in surveyResults:\n",
    "    data.writerow([question.upper()])\n",
    "    \n",
    "    # write each category and results\n",
    "    for category in surveyResults[question]:\n",
    "        c = surveyResults[question][category]\n",
    "        data.writerow([\"\", category, c['absolute'], c['people'], c['response']])\n",
    "        \n",
    "print(\"Your file has been updated\")"
   ]
  }
 ],
 "metadata": {
  "kernelspec": {
   "display_name": "Python 3",
   "language": "python",
   "name": "python3"
  },
  "language_info": {
   "codemirror_mode": {
    "name": "ipython",
    "version": 3
   },
   "file_extension": ".py",
   "mimetype": "text/x-python",
   "name": "python",
   "nbconvert_exporter": "python",
   "pygments_lexer": "ipython3",
   "version": "3.7.1"
  }
 },
 "nbformat": 4,
 "nbformat_minor": 2
}
